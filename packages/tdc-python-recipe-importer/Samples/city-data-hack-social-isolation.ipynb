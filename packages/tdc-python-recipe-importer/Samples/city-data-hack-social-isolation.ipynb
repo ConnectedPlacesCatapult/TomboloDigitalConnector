{
 "cells": [
  {
   "cell_type": "markdown",
   "metadata": {},
   "source": [
    "# City Data Hack Challenge 2 – Social Isolation\n",
    " \n",
    "\n",
    "This notebook demonstrates the use of the Python recipe wrapper to create a basic data pack that you can use to get you started with the challenge of Social Isolation for Barking and Dagenham borough. If you want to know more on the Challenge you can visit our [Tombolo website](http://www.tombolo.org.uk/challenge-2-social-isolation/). Don't forget that you can use the [City Data Explorer](https://tombolo-staging.emu-analytics.net) web app to visualise and style your results.\n",
    "\n"
   ]
  },
  {
   "cell_type": "markdown",
   "metadata": {},
   "source": [
    "## Some Background\n",
    "\n",
    "**The Tombolo project** is a Future Cities Catapult project funded by InnovateUK. It is a research and development project focused on understanding the value of data to unlock the potential of our cities. A big part of the Tombolo project is  the [Digital Connector](http://www.tombolo.org.uk/products/), an open source piece of software for Data Scientists to import and combine datasets into a standard format and model. You can visit the project on [Github](https://github.com/FutureCitiesCatapult/TomboloDigitalConnector) to learn some background as well as instructions on how to use it.\n",
    "\n",
    "\n",
    "\n"
   ]
  },
  {
   "cell_type": "markdown",
   "metadata": {},
   "source": [
    "## The goal"
   ]
  },
  {
   "cell_type": "markdown",
   "metadata": {},
   "source": [
    "We will use the Python recipe implementation to tell Digital Connector to fetch some Social Isolation data for Barking and dagenham.\n",
    "\n",
    "The geographical unit of measurement for our exports (the ***Subject*** in DC language) will be the Local Super Output Area (LSOA).\n",
    "\n",
    "The data that we will be fetching are:\n",
    "* Census data on disability\n",
    "* Census data on widowed households\n",
    "* Census data on elderly population\n",
    "* DCLG data on households with children at risk of deprivation\n",
    "* Data related to our [Social Infrastructure Index](https://github.com/FutureCitiesCatapult/digital-connector-python/blob/master/Samples/london-social-infrastructure.ipynb)\n",
    "* Age UK loneliness data\n",
    "* Census data on household with one inhabitant\n",
    "\n",
    "**Please note that the above datasources are only indicative! You should think more holistic in order to tackle this challenge!**\n",
    "\n",
    "Our output will be a GeoJson file conatining B&D's LSOAs along with the attributes of interest. Feel free to play around with the code, explore the DC and download more resources that will help you tackle the Challenge!"
   ]
  },
  {
   "cell_type": "markdown",
   "metadata": {},
   "source": [
    "### Lets get started"
   ]
  },
  {
   "cell_type": "markdown",
   "metadata": {},
   "source": [
    "First, we import some libraries that we will be using as well as the recipe.py file\n",
    "that contains all the classes necessary to build our recipes"
   ]
  },
  {
   "cell_type": "code",
   "execution_count": 211,
   "metadata": {},
   "outputs": [],
   "source": [
    "import geopandas as gpd\n",
    "import os\n",
    "from pathlib import Path\n",
    "from matplotlib import pyplot as plt\n",
    "\n",
    "home_dir = str(Path.home())\n",
    "\n",
    "%matplotlib inline\n",
    "%run os.path.join(home_dir, 'Desktop/python_library_dc/digital-connector-python/recipe.py')\n",
    "dc_dir = '/Desktop/TomboloDigitalConnector'\n"
   ]
  },
  {
   "cell_type": "markdown",
   "metadata": {},
   "source": [
    "The first thing we need to do is to create a **Subject**. This represents the core geometry on which all our operations will be based on. It also specifies the export geometry of our final geojson file. We are using *lsoa* and a **match_rule** to filter out all lsoa's not belonging to B&D borough.\n",
    "\n",
    "Since we will be using OpenStreetMap data for the social isolation index, we will need to create another Subject. This is because OSM data have no common spatial reference with the main subject."
   ]
  },
  {
   "cell_type": "code",
   "execution_count": 187,
   "metadata": {
    "scrolled": true
   },
   "outputs": [],
   "source": [
    "### recipe's subject\n",
    "subject = Subject(subject_type_label='lsoa',provider_label='uk.gov.ons',\n",
    "                  match_rule=Match_Rule(attribute_to_match_on='name', pattern='Barking%'))\n",
    "\n",
    "subject_osm = Subject(subject_type_label='OSMEntity',provider_label='org.openstreetmap')"
   ]
  },
  {
   "cell_type": "markdown",
   "metadata": {},
   "source": [
    "Next, we need to define our **Datasource**. This will tell DC what data to download. For more information on DC importers and datasource_id's consult the [catalogue.json](https://github.com/FutureCitiesCatapult/TomboloDigitalConnector/blob/master/src/main/resources/catalogue.json) or use the terminal \n",
    "\n",
    "**gradle info -Pi= *name_of_the_class***"
   ]
  },
  {
   "cell_type": "code",
   "execution_count": 188,
   "metadata": {
    "collapsed": true
   },
   "outputs": [],
   "source": [
    "### recipe's datasources\n",
    "\n",
    "lsoa = Datasource(importer_class='uk.org.tombolo.importer.ons.OaImporter',\n",
    "                            datasource_id='lsoa')\n",
    "\n",
    "population_density = Datasource(importer_class='uk.org.tombolo.importer.ons.CensusImporter',\n",
    "                            datasource_id='qs102ew')\n",
    "\n",
    "households_composition = Datasource(importer_class='uk.org.tombolo.importer.ons.CensusImporter',\n",
    "                            datasource_id='qs117ew')\n",
    "\n",
    "widowed = Datasource(importer_class='uk.org.tombolo.importer.ons.CensusImporter',\n",
    "                        datasource_id='qs108ew')\n",
    "\n",
    "long_term_disability = Datasource(importer_class='uk.org.tombolo.importer.ons.CensusImporter',\n",
    "                            datasource_id='qs303ew')\n",
    "\n",
    "age_by_single_year = Datasource(importer_class='uk.org.tombolo.importer.ons.CensusImporter',\n",
    "                            datasource_id='qs103ew')\n",
    "\n",
    "imd = Datasource(importer_class='uk.org.tombolo.importer.dclg.IMDImporter',\n",
    "                datasource_id='imd')\n",
    "\n",
    "ageuk_loneliness = Datasource(importer_class='uk.org.tombolo.importer.londondatastore.LondonLonelinessImporter',\n",
    "                              geography_scope= ['lsoa'],\n",
    "                              datasource_id='lonelinessPrevalence')\n",
    "\n",
    "osm_health = Datasource(importer_class='uk.org.tombolo.importer.osm.OSMImporter',\n",
    "                       geography_scope = ['europe/great-britain/england/greater-london'],\n",
    "                       datasource_id = 'OSMHealth')\n",
    "\n",
    "osm_education = Datasource(importer_class='uk.org.tombolo.importer.osm.OSMImporter',\n",
    "                       geography_scope = ['europe/great-britain/england/greater-london'],\n",
    "                       datasource_id = 'OSMEducation')\n",
    "\n",
    "osm_civic = Datasource(importer_class='uk.org.tombolo.importer.osm.OSMImporter',\n",
    "                       geography_scope = ['europe/great-britain/england/greater-london'],\n",
    "                       datasource_id = 'OSMCivic')\n"
   ]
  },
  {
   "cell_type": "markdown",
   "metadata": {},
   "source": [
    "Now that we defined the datasources we need to tell the DC which attributes to fetch from the database. To do that we create **AttributeMatcher** fields for all the attributes of interest. "
   ]
  },
  {
   "cell_type": "code",
   "execution_count": 189,
   "metadata": {
    "collapsed": true
   },
   "outputs": [],
   "source": [
    "### psql attributes\n",
    "\n",
    "# We will be using population density to normalise our census data\n",
    "population_density_a = AttributeMatcher(label='Area/Population Density: Density (number of persons per hectare)',\n",
    "                                       provider = 'uk.gov.ons')\n",
    "\n",
    "disability_a = AttributeMatcher(label='Disability: Day-to-day activities limited a lot',\n",
    "                             provider = 'uk.gov.ons')\n",
    "\n",
    "household_composition_a = AttributeMatcher(label='Adults in Household: 1 adult in household',\n",
    "                                           provider  = 'uk.gov.ons')\n",
    "\n",
    "ageuk_loneliness_a = AttributeMatcher(label='londonDecile',\n",
    "                                      provider  = 'uk.gov.london')\n",
    "\n",
    "# Here we are creating a list comprehension that will create AttributeMatcher fields for all ages over 65 years old.\n",
    "# This is because census data on Age come as per individual year\n",
    "ages_over_65_a = [AttributeMatcher(label='Age: Age %s'% age, provider  = 'uk.gov.ons') for age in range(65,99)]\n",
    "\n",
    "widowed_a  = AttributeMatcher(label = 'Living Arrangement: Not living in a couple: Widowed or surviving partner from a same-sex civil partnership',\n",
    "                             provider = 'uk.gov.ons')\n",
    "\n",
    "imd_a  = AttributeMatcher(label = 'idaci_score',\n",
    "                             provider = 'uk.gov.dclg')\n",
    "\n",
    "# Notice that here we used another field called AttributeMatcherField to wrap AttributeMatcher. This is because \n",
    "# OSM data come as individual categories with no numerical values. We need to assign a constant value using \n",
    "# a ConstantField so we can perform operations such as summing.\n",
    "health_count_a = AttributeMatcherField(field=ConstantField(value=\"1\"),\n",
    "                                        attributes=[AttributeMatcher(provider='org.openstreetmap',\n",
    "                                                                     label='amenity',\n",
    "                                                                     values= [\"clinic\",\n",
    "                                                                              \"dentist\",\n",
    "                                                                              \"doctors\",\n",
    "                                                                              \"hospital\",\n",
    "                                                                              \"pharmacy\"])],\n",
    "                                        label='amenity')\n",
    "\n",
    "education_count_a = AttributeMatcherField(field=ConstantField(value=\"1\"),\n",
    "                                        attributes=[AttributeMatcher(provider='org.openstreetmap',\n",
    "                                                                     label='amenity',\n",
    "                                                                     values= [\"school\",\n",
    "                                                                              \"library\",\n",
    "                                                                              \"university\",\n",
    "                                                                              \"college\",\n",
    "                                                                              \"kindergarten\"])],\n",
    "                                        label='amenity')\n",
    "\n",
    "civic_count_a = AttributeMatcherField(field=ConstantField(value=\"1\"),\n",
    "                                        attributes=[AttributeMatcher(provider='org.openstreetmap',\n",
    "                                                                     label='amenity',\n",
    "                                                                     values= [\"courthouse\",\n",
    "                                                                              \"coworking_space\",\n",
    "                                                                              \"recycling\",\n",
    "                                                                              \"fire_station\",\n",
    "                                                                              \"place_of_worship\",\n",
    "                                                                              \"police\",\n",
    "                                                                              \"post_office\",\n",
    "                                                                              \"town_hall\",\n",
    "                                                                              \"waste_disposal\"])],\n",
    "                                        label='amenity')"
   ]
  },
  {
   "cell_type": "markdown",
   "metadata": {},
   "source": [
    "Having specified the attributes that we will be using, we now need to use them within DC's **Fields**. There are numerous fields each one with its own unique properties. Please consult [DC's github repo](https://github.com/FutureCitiesCatapult/TomboloDigitalConnector/blob/master/documentation/fields-and-models.md) for more information on fields."
   ]
  },
  {
   "cell_type": "code",
   "execution_count": 190,
   "metadata": {
    "collapsed": true
   },
   "outputs": [],
   "source": [
    "### DC fields\n",
    "\n",
    "# A very basic field that can handle numeric and time series attributes is LatestValueField. This essentially\n",
    "# fetches the latest value within a time series if a time series exists. If not, it will just fetch teh default value.\n",
    "population_density_f = LatestValueField(attribute_matcher=population_density_a,\n",
    "                                                  label='Area/Population Density: Density (number of persons per hectare)')\n",
    "\n",
    "disability_f = LatestValueField(attribute_matcher=disability_a,\n",
    "                                                  label='Disability: Day-to-day activities limited a lot')\n",
    "\n",
    "household_composition_f = LatestValueField(attribute_matcher=household_composition_a,\n",
    "                                                  label='Adults in Household: 1 adult in household')\n",
    "\n",
    "ages_over_65_f = [LatestValueField(attribute_matcher=i,\n",
    "                                                  label='ages') for i in ages_over_65_a]\n",
    "\n",
    "widowed_f = LatestValueField(attribute_matcher = widowed_a, \n",
    "                            label = 'Living Arrangement: Not living in a couple: Widowed or surviving partner from a same-sex civil partnership')\n",
    "\n",
    "imd_f = LatestValueField(attribute_matcher=imd_a,\n",
    "                         label='Income Deprivation Affecting Children Index (IDACI) Score (rate)')\n",
    "\n"
   ]
  },
  {
   "cell_type": "markdown",
   "metadata": {},
   "source": [
    "For the OSM data, we will use a **GeographicAggregationField** to sum the individual amenities tha fall within each local authority. This way we will get an idea of how well a particular LSAO is served by different social amenities."
   ]
  },
  {
   "cell_type": "code",
   "execution_count": 191,
   "metadata": {
    "collapsed": true
   },
   "outputs": [],
   "source": [
    "health_count_g = GeographicAggregationField(field=health_count_a,\n",
    "                                            function = 'sum',\n",
    "                                            subject=subject_osm,\n",
    "                                            label = 'Health related amenities')\n",
    "\n",
    "education_count_g = GeographicAggregationField(field=education_count_a,\n",
    "                                            function = 'sum',\n",
    "                                            subject=subject_osm,\n",
    "                                            label = 'Education related amenities')\n",
    "\n",
    "civic_count_g = GeographicAggregationField(field=civic_count_a,\n",
    "                                            function = 'sum',\n",
    "                                            subject=subject_osm,\n",
    "                                            label = 'Civil infrastructure related amenities')\n"
   ]
  },
  {
   "cell_type": "markdown",
   "metadata": {},
   "source": [
    "Now we need to normalise the census data by each LSOA's population desity. We will use the **ArithmeticField** for this task."
   ]
  },
  {
   "cell_type": "code",
   "execution_count": 192,
   "metadata": {
    "collapsed": true
   },
   "outputs": [],
   "source": [
    "# Normalised census data\n",
    "norm_disability = ArithmeticField(operation='div',\n",
    "                                  operation_on_field_1 = disability_f,\n",
    "                                  operation_on_field_2 = population_density_f,\n",
    "                                  label = 'Norm. Disability: Day-to-day activities limited a lot')\n",
    "\n",
    "norm_household_composition = ArithmeticField(operation = 'div',\n",
    "                                  operation_on_field_1 = household_composition_f,\n",
    "                                  operation_on_field_2 = population_density_f,\n",
    "                                  label = 'Norm. Adults in Household: 1 adult in household')\n",
    "\n",
    "norm_widowed = ArithmeticField(operation = 'div',\n",
    "                                  operation_on_field_1 = widowed_f,\n",
    "                                  operation_on_field_2 = population_density_f,\n",
    "                                  label = 'Norm. Widowed or surviving partner from a same-sex civil partnership ')\n",
    "\n",
    "# Summing all ages over 65\n",
    "norm_ages_over_65 = ArithmeticField(operation='div',\n",
    "                                   operation_on_field_1 = ListArithmeticField(fields=ages_over_65_f,\n",
    "                                                                           operation='sum',\n",
    "                                                                           label='sum ages'),\n",
    "                                   operation_on_field_2 = population_density_f,\n",
    "                                   label = 'Norm. Elderly (age >65)')\n",
    "# AgeUK data\n",
    "ageuk_loneliness_f = LatestValueField(attribute_matcher=ageuk_loneliness_a,\n",
    "                                      label='Age UK Loneliness London deciles (1=most lonely)')\n",
    "\n",
    "\n",
    "\n"
   ]
  },
  {
   "cell_type": "markdown",
   "metadata": {},
   "source": [
    "Now we are in a good shape to run our recipe!"
   ]
  },
  {
   "cell_type": "code",
   "execution_count": 201,
   "metadata": {
    "scrolled": true
   },
   "outputs": [
    {
     "name": "stdout",
     "output_type": "stream",
     "text": [
      "b'Starting a Gradle Daemon (subsequent builds will be faster)\\n'\n",
      "b':compileJava UP-TO-DATE\\n'\n",
      "b':processResources UP-TO-DATE\\n'\n",
      "b':classes UP-TO-DATE\\n'\n",
      "b':runExportHelp UP-TO-DATE\\n'\n",
      "b':runExport\\n'\n",
      "b'2018-03-16 11:59:20.619 [main] WARN  n.s.e.config.ConfigurationFactory - No configuration found. Configuring ehcache from ehcache-failsafe.xml  found in the classpath: jar:file:/Users/tbantis/.gradle/caches/modules-2/files-2.1/net.sf.ehcache/ehcache/2.10.3/cf74f9a4a049f181833b147a1d9aa62159c9d01d/ehcache-2.10.3.jar!/ehcache-failsafe.xml\\n'\n",
      "b'2018-03-16 11:59:23.051 [main] INFO  uk.org.tombolo.AbstractRunner - Setting file download cache: /tmp\\n'\n",
      "b\"2018-03-16 11:59:23.384 [main] INFO  org.ehcache.core.EhcacheManager - Cache 'fields' created in EhcacheManager.\\n\"\n",
      "b'2018-03-16 11:59:23.799 [main] INFO  u.o.t.importer.AbstractImporter - Skipped importing uk.org.tombolo.importer.ons.OaImporter:lsoa as this import has been completed previously\\n'\n",
      "b'2018-03-16 11:59:23.833 [main] INFO  u.o.t.importer.AbstractImporter - Skipped importing uk.org.tombolo.importer.ons.OaImporter:lsoa as this import has been completed previously\\n'\n",
      "b'2018-03-16 11:59:23.852 [main] INFO  u.org.tombolo.importer.DownloadUtils - Fetching local file: /private/tmp/TomboloData/uk.gov.ons/e18d58ee-6c0e-37d0-81df-2b877dd5f99c.json\\n'\n",
      "b'2018-03-16 11:59:24.207 [main] INFO  u.o.t.importer.AbstractImporter - Skipped importing uk.org.tombolo.importer.ons.CensusImporter:qs102ew as this import has been completed previously\\n'\n",
      "b'2018-03-16 11:59:24.209 [main] INFO  u.o.t.importer.AbstractImporter - Skipped importing uk.org.tombolo.importer.ons.OaImporter:lsoa as this import has been completed previously\\n'\n",
      "b'2018-03-16 11:59:24.209 [main] INFO  u.org.tombolo.importer.DownloadUtils - Fetching local file: /private/tmp/TomboloData/uk.gov.ons/e18d58ee-6c0e-37d0-81df-2b877dd5f99c.json\\n'\n",
      "b'2018-03-16 11:59:24.449 [main] INFO  u.o.t.importer.AbstractImporter - Skipped importing uk.org.tombolo.importer.ons.CensusImporter:qs108ew as this import has been completed previously\\n'\n",
      "b'2018-03-16 11:59:24.468 [main] INFO  u.o.t.importer.AbstractImporter - Skipped importing uk.org.tombolo.importer.ons.OaImporter:lsoa as this import has been completed previously\\n'\n",
      "b'2018-03-16 11:59:24.471 [main] INFO  u.o.t.importer.AbstractImporter - Skipped importing uk.org.tombolo.importer.dclg.IMDImporter:imd as this import has been completed previously\\n'\n",
      "b'2018-03-16 11:59:24.474 [main] INFO  u.o.t.importer.AbstractImporter - Skipped importing uk.org.tombolo.importer.ons.OaImporter:lsoa as this import has been completed previously\\n'\n",
      "b'2018-03-16 11:59:24.474 [main] INFO  u.org.tombolo.importer.DownloadUtils - Fetching local file: /private/tmp/TomboloData/uk.gov.ons/e18d58ee-6c0e-37d0-81df-2b877dd5f99c.json\\n'\n",
      "b'2018-03-16 11:59:24.647 [main] INFO  u.o.t.importer.AbstractImporter - Skipped importing uk.org.tombolo.importer.ons.CensusImporter:qs117ew as this import has been completed previously\\n'\n",
      "b'2018-03-16 11:59:24.657 [main] INFO  u.o.t.importer.AbstractImporter - Skipped importing uk.org.tombolo.importer.ons.OaImporter:lsoa as this import has been completed previously\\n'\n",
      "b'2018-03-16 11:59:24.659 [main] INFO  u.org.tombolo.importer.DownloadUtils - Fetching local file: /private/tmp/TomboloData/uk.gov.ons/e18d58ee-6c0e-37d0-81df-2b877dd5f99c.json\\n'\n",
      "b'2018-03-16 11:59:24.832 [main] INFO  u.o.t.importer.AbstractImporter - Skipped importing uk.org.tombolo.importer.ons.CensusImporter:qs303ew as this import has been completed previously\\n'\n",
      "b'2018-03-16 11:59:24.846 [main] INFO  u.o.t.importer.AbstractImporter - Skipped importing uk.org.tombolo.importer.ons.OaImporter:localAuthority as this import has been completed previously\\n'\n",
      "b'2018-03-16 11:59:24.848 [main] INFO  u.o.t.importer.AbstractImporter - Skipped importing uk.org.tombolo.importer.ons.OaImporter:msoa as this import has been completed previously\\n'\n",
      "b'2018-03-16 11:59:24.855 [main] INFO  u.o.t.importer.AbstractImporter - Skipped importing uk.org.tombolo.importer.ons.OaImporter:lsoa as this import has been completed previously\\n'\n",
      "b'2018-03-16 11:59:24.886 [main] INFO  u.o.t.importer.AbstractImporter - Skipped importing uk.org.tombolo.importer.londondatastore.LondonLonelinessImporter:lonelinessPrevalence as this import has been completed previously\\n'\n",
      "b'2018-03-16 11:59:24.890 [main] INFO  u.o.t.importer.AbstractImporter - Skipped importing uk.org.tombolo.importer.ons.OaImporter:lsoa as this import has been completed previously\\n'\n",
      "b'2018-03-16 11:59:24.890 [main] INFO  u.org.tombolo.importer.DownloadUtils - Fetching local file: /private/tmp/TomboloData/uk.gov.ons/e18d58ee-6c0e-37d0-81df-2b877dd5f99c.json\\n'\n",
      "b'2018-03-16 11:59:25.017 [main] INFO  u.o.t.importer.AbstractImporter - Skipped importing uk.org.tombolo.importer.ons.CensusImporter:qs103ew as this import has been completed previously\\n'\n",
      "b'2018-03-16 11:59:25.063 [main] INFO  u.o.t.importer.AbstractImporter - Skipped importing uk.org.tombolo.importer.osm.OSMImporter:OSMHealth as this import has been completed previously\\n'\n",
      "b'2018-03-16 11:59:25.065 [main] INFO  u.o.t.importer.AbstractImporter - Skipped importing uk.org.tombolo.importer.osm.OSMImporter:OSMEducation as this import has been completed previously\\n'\n",
      "b'2018-03-16 11:59:25.071 [main] INFO  u.o.t.importer.AbstractImporter - Skipped importing uk.org.tombolo.importer.osm.OSMImporter:OSMCivic as this import has been completed previously\\n'\n",
      "b'2018-03-16 11:59:25.366 [main] INFO  u.o.t.execution.DataExportEngine - Exporting ...\\n'\n",
      "b'2018-03-16 11:59:26.414 [main] INFO  u.o.tombolo.exporter.GeoJsonExporter - Exporting 110 subjects\\n'\n",
      "b'2018-03-16 11:59:33.952 [main] INFO  uk.org.tombolo.execution.FieldCache - Caching milestone 1000 (0 hits) (1000 misses)\\n'\n",
      "b'2018-03-16 11:59:35.636 [main] INFO  u.o.tombolo.exporter.GeoJsonExporter - Exported 100 subjects\\n'\n",
      "b'2018-03-16 11:59:36.346 [main] INFO  u.o.tombolo.exporter.GeoJsonExporter - Exported 110 subjects\\n'\n",
      "b'\\n'\n",
      "b'BUILD SUCCESSFUL in 31s\\n'\n",
      "b'3 actionable tasks: 1 executed, 2 up-to-date\\n'\n",
      "Execution completed Successfully!!!!\n"
     ]
    }
   ],
   "source": [
    "### running DC\n",
    "\n",
    "# We create a Dataset object containing all the information needed to create a DC recipe file\n",
    "dataset = Dataset(subjects=[subject],\n",
    "                  fields=[norm_disability,\n",
    "                          norm_household_composition,\n",
    "                          norm_ages_over_65,\n",
    "                          ageuk_loneliness_f,\n",
    "                          norm_widowed,\n",
    "                          imd_f,\n",
    "                          health_count_g,\n",
    "                          education_count_g,\n",
    "                          civic_count_g],\n",
    "                  datasources=[lsoa,\n",
    "                               population_density,\n",
    "                               widowed,\n",
    "                               imd,\n",
    "                               households_composition,\n",
    "                               long_term_disability,\n",
    "                               ageuk_loneliness,\n",
    "                               age_by_single_year,\n",
    "                               osm_health,\n",
    "                               osm_education,\n",
    "                               osm_civic])\n",
    "\n",
    "\n",
    "recipe = Recipe(dataset,timestamp=False)\n",
    "recipe.build_recipe(console_print=False)\n",
    "\n",
    "# We pass everything to DC\n",
    "recipe.run_recipe(tombolo_path=home_dir + dc_dir,\n",
    "                  clear_database_cache=False,\n",
    "                  output_path = home_dir + '/challenge1_starter.json')"
   ]
  },
  {
   "cell_type": "code",
   "execution_count": 202,
   "metadata": {
    "scrolled": true
   },
   "outputs": [
    {
     "data": {
      "text/html": [
       "<div>\n",
       "<style scoped>\n",
       "    .dataframe tbody tr th:only-of-type {\n",
       "        vertical-align: middle;\n",
       "    }\n",
       "\n",
       "    .dataframe tbody tr th {\n",
       "        vertical-align: top;\n",
       "    }\n",
       "\n",
       "    .dataframe thead th {\n",
       "        text-align: right;\n",
       "    }\n",
       "</style>\n",
       "<table border=\"1\" class=\"dataframe\">\n",
       "  <thead>\n",
       "    <tr style=\"text-align: right;\">\n",
       "      <th></th>\n",
       "      <th>Norm. Adults in Household: 1 adult in household</th>\n",
       "      <th>Health related amenities</th>\n",
       "      <th>name</th>\n",
       "      <th>Norm. Disability: Day-to-day activities limited a lot</th>\n",
       "      <th>label</th>\n",
       "      <th>Age UK Loneliness London deciles (1=most lonely)</th>\n",
       "      <th>Income Deprivation Affecting Children Index (IDACI) Score (rate)</th>\n",
       "      <th>Norm. Widowed or surviving partner from a same-sex civil partnership</th>\n",
       "      <th>Civil infrastructure related amenities</th>\n",
       "      <th>Norm. Elderly (age &gt;65)</th>\n",
       "      <th>Education related amenities</th>\n",
       "      <th>geometry</th>\n",
       "    </tr>\n",
       "  </thead>\n",
       "  <tbody>\n",
       "    <tr>\n",
       "      <th>0</th>\n",
       "      <td>0.903614</td>\n",
       "      <td>0.0</td>\n",
       "      <td>Barking and Dagenham 016A</td>\n",
       "      <td>0.757315</td>\n",
       "      <td>E01000006</td>\n",
       "      <td>2.0</td>\n",
       "      <td>0.156</td>\n",
       "      <td>0.447504</td>\n",
       "      <td>0.0</td>\n",
       "      <td>1.144578</td>\n",
       "      <td>0.0</td>\n",
       "      <td>POLYGON ((0.0912 51.5391, 0.09329999999999999 ...</td>\n",
       "    </tr>\n",
       "    <tr>\n",
       "      <th>1</th>\n",
       "      <td>3.654676</td>\n",
       "      <td>2.0</td>\n",
       "      <td>Barking and Dagenham 015A</td>\n",
       "      <td>1.107914</td>\n",
       "      <td>E01000007</td>\n",
       "      <td>1.0</td>\n",
       "      <td>0.380</td>\n",
       "      <td>0.431655</td>\n",
       "      <td>1.0</td>\n",
       "      <td>0.834532</td>\n",
       "      <td>0.0</td>\n",
       "      <td>POLYGON ((0.07779999999999999 51.5428, 0.07969...</td>\n",
       "    </tr>\n",
       "    <tr>\n",
       "      <th>2</th>\n",
       "      <td>2.541087</td>\n",
       "      <td>0.0</td>\n",
       "      <td>Barking and Dagenham 015B</td>\n",
       "      <td>0.986094</td>\n",
       "      <td>E01000008</td>\n",
       "      <td>5.0</td>\n",
       "      <td>0.368</td>\n",
       "      <td>0.341340</td>\n",
       "      <td>0.0</td>\n",
       "      <td>0.505689</td>\n",
       "      <td>0.0</td>\n",
       "      <td>(POLYGON ((0.06859999999999999 51.5362, 0.0680...</td>\n",
       "    </tr>\n",
       "    <tr>\n",
       "      <th>3</th>\n",
       "      <td>1.161616</td>\n",
       "      <td>0.0</td>\n",
       "      <td>Barking and Dagenham 016B</td>\n",
       "      <td>1.103896</td>\n",
       "      <td>E01000009</td>\n",
       "      <td>3.0</td>\n",
       "      <td>0.283</td>\n",
       "      <td>0.490620</td>\n",
       "      <td>1.0</td>\n",
       "      <td>1.305916</td>\n",
       "      <td>0.0</td>\n",
       "      <td>POLYGON ((0.0824 51.5427, 0.0842 51.5418, 0.08...</td>\n",
       "    </tr>\n",
       "    <tr>\n",
       "      <th>4</th>\n",
       "      <td>3.977695</td>\n",
       "      <td>8.0</td>\n",
       "      <td>Barking and Dagenham 015C</td>\n",
       "      <td>1.102850</td>\n",
       "      <td>E01000010</td>\n",
       "      <td>5.0</td>\n",
       "      <td>0.317</td>\n",
       "      <td>0.594796</td>\n",
       "      <td>7.0</td>\n",
       "      <td>1.040892</td>\n",
       "      <td>2.0</td>\n",
       "      <td>POLYGON ((0.0775 51.5397, 0.0781 51.5393, 0.07...</td>\n",
       "    </tr>\n",
       "  </tbody>\n",
       "</table>\n",
       "</div>"
      ],
      "text/plain": [
       "   Norm. Adults in Household: 1 adult in household  Health related amenities  \\\n",
       "0                                         0.903614                       0.0   \n",
       "1                                         3.654676                       2.0   \n",
       "2                                         2.541087                       0.0   \n",
       "3                                         1.161616                       0.0   \n",
       "4                                         3.977695                       8.0   \n",
       "\n",
       "                        name  \\\n",
       "0  Barking and Dagenham 016A   \n",
       "1  Barking and Dagenham 015A   \n",
       "2  Barking and Dagenham 015B   \n",
       "3  Barking and Dagenham 016B   \n",
       "4  Barking and Dagenham 015C   \n",
       "\n",
       "   Norm. Disability: Day-to-day activities limited a lot      label  \\\n",
       "0                                           0.757315      E01000006   \n",
       "1                                           1.107914      E01000007   \n",
       "2                                           0.986094      E01000008   \n",
       "3                                           1.103896      E01000009   \n",
       "4                                           1.102850      E01000010   \n",
       "\n",
       "   Age UK Loneliness London deciles (1=most lonely)  \\\n",
       "0                                               2.0   \n",
       "1                                               1.0   \n",
       "2                                               5.0   \n",
       "3                                               3.0   \n",
       "4                                               5.0   \n",
       "\n",
       "   Income Deprivation Affecting Children Index (IDACI) Score (rate)  \\\n",
       "0                                              0.156                  \n",
       "1                                              0.380                  \n",
       "2                                              0.368                  \n",
       "3                                              0.283                  \n",
       "4                                              0.317                  \n",
       "\n",
       "   Norm. Widowed or surviving partner from a same-sex civil partnership   \\\n",
       "0                                           0.447504                       \n",
       "1                                           0.431655                       \n",
       "2                                           0.341340                       \n",
       "3                                           0.490620                       \n",
       "4                                           0.594796                       \n",
       "\n",
       "   Civil infrastructure related amenities  Norm. Elderly (age >65)  \\\n",
       "0                                     0.0                 1.144578   \n",
       "1                                     1.0                 0.834532   \n",
       "2                                     0.0                 0.505689   \n",
       "3                                     1.0                 1.305916   \n",
       "4                                     7.0                 1.040892   \n",
       "\n",
       "   Education related amenities  \\\n",
       "0                          0.0   \n",
       "1                          0.0   \n",
       "2                          0.0   \n",
       "3                          0.0   \n",
       "4                          2.0   \n",
       "\n",
       "                                            geometry  \n",
       "0  POLYGON ((0.0912 51.5391, 0.09329999999999999 ...  \n",
       "1  POLYGON ((0.07779999999999999 51.5428, 0.07969...  \n",
       "2  (POLYGON ((0.06859999999999999 51.5362, 0.0680...  \n",
       "3  POLYGON ((0.0824 51.5427, 0.0842 51.5418, 0.08...  \n",
       "4  POLYGON ((0.0775 51.5397, 0.0781 51.5393, 0.07...  "
      ]
     },
     "execution_count": 202,
     "metadata": {},
     "output_type": "execute_result"
    }
   ],
   "source": [
    "gdf = gpd.read_file(home_dir + '/challenge1_starter.json')\n",
    "gdf.head()"
   ]
  },
  {
   "cell_type": "code",
   "execution_count": 210,
   "metadata": {},
   "outputs": [
    {
     "data": {
      "text/plain": [
       "<matplotlib.colorbar.Colorbar at 0x119652dd8>"
      ]
     },
     "execution_count": 210,
     "metadata": {},
     "output_type": "execute_result"
    },
    {
     "data": {
      "image/png": "[encoded data removed]",
      "text/plain": [
       "<matplotlib.figure.Figure at 0x1194f1278>"
      ]
     },
     "metadata": {},
     "output_type": "display_data"
    }
   ],
   "source": [
    "vmin=gdf['Age UK Loneliness London deciles (1=most lonely)'].min()\n",
    "vmax=gdf['Age UK Loneliness London deciles (1=most lonely)'].max()\n",
    "    \n",
    "ax = gdf.plot(column='Age UK Loneliness London deciles (1=most lonely)', cmap='viridis',\n",
    "              vmin=vmin,\n",
    "              vmax=vmax)\n",
    "\n",
    "# add colorbar\n",
    "fig = ax.get_figure()\n",
    "cax = fig.add_axes([0.9, 0.1, 0.03, 0.8])\n",
    "sm = plt.cm.ScalarMappable(cmap='viridis', norm=plt.Normalize(vmin=vmin, vmax=vmax))\n",
    "sm._A = []\n",
    "fig.colorbar(sm, cax=cax)\n",
    "\n"
   ]
  },
  {
   "cell_type": "code",
   "execution_count": null,
   "metadata": {
    "collapsed": true
   },
   "outputs": [],
   "source": []
  }
 ],
 "metadata": {
  "kernelspec": {
   "display_name": "Python 3",
   "language": "python",
   "name": "python3"
  },
  "language_info": {
   "codemirror_mode": {
    "name": "ipython",
    "version": 3
   },
   "file_extension": ".py",
   "mimetype": "text/x-python",
   "name": "python",
   "nbconvert_exporter": "python",
   "pygments_lexer": "ipython3",
   "version": "3.6.2"
  }
 },
 "nbformat": 4,
 "nbformat_minor": 2
}
